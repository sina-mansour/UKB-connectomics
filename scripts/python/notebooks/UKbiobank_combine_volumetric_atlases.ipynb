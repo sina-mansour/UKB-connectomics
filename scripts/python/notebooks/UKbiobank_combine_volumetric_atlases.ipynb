{
 "cells": [
  {
   "cell_type": "code",
   "execution_count": 1,
   "id": "870089a5-1d49-4dfe-9bfd-4f4dbd164c4b",
   "metadata": {},
   "outputs": [],
   "source": [
    "import os\n",
    "import sys\n",
    "import time\n",
    "import datetime\n",
    "import numpy as np\n",
    "import pandas as pd\n",
    "import nibabel as nib\n",
    "from scipy import spatial\n",
    "from nibabel import freesurfer\n"
   ]
  },
  {
   "cell_type": "code",
   "execution_count": 2,
   "id": "223e5432-a9f1-4cc0-bbf1-7f0abc3e3d05",
   "metadata": {},
   "outputs": [],
   "source": [
    "def ensure_dir(file_name):\n",
    "    os.makedirs(os.path.dirname(file_name), exist_ok=True)\n",
    "    return file_name\n",
    "\n",
    "\n",
    "def time_str(mode='abs', base=None):\n",
    "    if mode == 'rel':\n",
    "        return str(datetime.timedelta(seconds=(time.time() - base)))\n",
    "    if mode == 'raw':\n",
    "        return time.time()\n",
    "    if mode == 'abs':\n",
    "        return time.asctime(time.localtime(time.time()))\n"
   ]
  },
  {
   "cell_type": "code",
   "execution_count": 77,
   "id": "f505d3a4-9a0a-4902-865e-bc23297bb057",
   "metadata": {},
   "outputs": [],
   "source": [
    "cortical_atlas_names = [\n",
    "    'Glasser', 'Schaefer7n100p', 'Schaefer7n200p', 'Schaefer7n300p', 'Schaefer7n400p', 'Schaefer7n500p',\n",
    "    'Schaefer7n600p', 'Schaefer7n700p', 'Schaefer7n800p', 'Schaefer7n900p', 'Schaefer7n1000p', 'Schaefer17n100p',\n",
    "    'Schaefer17n200p', 'Schaefer17n300p', 'Schaefer17n400p', 'Schaefer17n500p', 'Schaefer17n600p', 'Schaefer17n700p',\n",
    "    'Schaefer17n800p', 'Schaefer17n900p', 'Schaefer17n1000p', 'aparc', 'aparc.a2009s',\n",
    "]\n",
    "subcortical_atlas_names = [\n",
    "    \"Tian_Subcortex_S1_3T\", \"Tian_Subcortex_S2_3T\", \"Tian_Subcortex_S3_3T\", \"Tian_Subcortex_S4_3T\",\n",
    "]\n",
    "cols = ['index', 'label_name']\n",
    "for atlas_1_name in cortical_atlas_names:\n",
    "    for atlas_2_name in subcortical_atlas_names:\n",
    "        cortical_labels = pd.DataFrame(\n",
    "            np.genfromtxt(\n",
    "                '{}/atlases/labels/{}.ColorLUT.txt'.format(template_dir, atlas_1_name),\n",
    "                dtype='str'\n",
    "            ),\n",
    "            columns=['index', 'label_name', 'R', 'G', 'B', 'A'],\n",
    "        ).astype(\n",
    "            dtype={\n",
    "                \"index\": \"int\",\n",
    "                \"label_name\": \"str\",\n",
    "                \"R\": \"int\",\n",
    "                \"G\": \"int\",\n",
    "                \"B\": \"int\",\n",
    "                \"A\": \"int\",\n",
    "            }\n",
    "        )\n",
    "        \n",
    "        updated_cortical_labels = cortical_labels.copy()\n",
    "        updated_cortical_labels['label_name'] = [(f'{atlas_1_name}_' + x if x!='???' else x) for x in cortical_labels['label_name']]\n",
    "\n",
    "        subcortical_labels = pd.DataFrame(\n",
    "            ['???'] + list(np.genfromtxt(\n",
    "                '{}/atlases/labels/{}_label.txt'.format(template_dir, atlas_2_name),\n",
    "                dtype='str'\n",
    "            )),\n",
    "            columns=['label_name'],\n",
    "        ).astype(\n",
    "            dtype={\n",
    "                \"label_name\": \"str\",\n",
    "            }\n",
    "        )\n",
    "        subcortical_labels['index'] = subcortical_labels.index\n",
    "        \n",
    "        updated_subcortical_labels = subcortical_labels.copy()\n",
    "        updated_subcortical_labels['index'] = [((x + cortical_labels['index'].max()) if x!=0 else 0) for x in subcortical_labels['index']]\n",
    "        updated_subcortical_labels['label_name'] = f'{atlas_2_name}_' + subcortical_labels['label_name']\n",
    "        \n",
    "        combined_labels = pd.concat([updated_cortical_labels[cols], updated_subcortical_labels[1:][cols]])\n",
    "        \n",
    "        np.savetxt(\n",
    "            ensure_dir('{}/atlases/labels/combinations/C:{}+S:{}_label.txt'.format(template_dir, atlas_1_name, atlas_2_name)),\n",
    "            np.array(combined_labels[cols]),\n",
    "            fmt=['%d', '%s',]\n",
    "        )\n"
   ]
  },
  {
   "cell_type": "code",
   "execution_count": 133,
   "id": "8edf4749-0b4c-433b-9958-120de22f2294",
   "metadata": {},
   "outputs": [],
   "source": [
    "atlas_1_name = 'aparc'\n",
    "atlas_2_name = 'Tian_Subcortex_S4_3T'\n"
   ]
  },
  {
   "cell_type": "code",
   "execution_count": 134,
   "id": "7a2ad759-3619-46fc-b9f5-6e450398abe7",
   "metadata": {},
   "outputs": [],
   "source": [
    "cortical_labels = pd.DataFrame(\n",
    "    np.genfromtxt(\n",
    "        '{}/atlases/labels/{}.ColorLUT.txt'.format(template_dir, atlas_1_name),\n",
    "        dtype='str'\n",
    "    ),\n",
    "    columns=['index', 'label_name', 'R', 'G', 'B', 'A'],\n",
    ").astype(\n",
    "    dtype={\n",
    "        \"index\": \"int\",\n",
    "        \"label_name\": \"str\",\n",
    "        \"R\": \"int\",\n",
    "        \"G\": \"int\",\n",
    "        \"B\": \"int\",\n",
    "        \"A\": \"int\",\n",
    "    }\n",
    ")\n"
   ]
  },
  {
   "cell_type": "code",
   "execution_count": 135,
   "id": "a78d1c32-90c7-4105-8234-0dd5aecd6c0b",
   "metadata": {},
   "outputs": [],
   "source": [
    "template_dir = '/home/sina/Documents/Research/Codes/UKB-connectomics/data/templates'\n",
    "ukb_subjects_dir = '/home/sina/Documents/Research/Datasets/UK_biobank/sample'\n",
    "ukb_subject_id = '1000243'\n",
    "ukb_instance = '2_0'\n",
    "\n",
    "atlas_1 = f'{ukb_subjects_dir}/{ukb_subject_id}_{ukb_instance}/dMRI/dMRI/native.dMRI_space.{atlas_1_name}.nii.gz'\n",
    "atlas_2 = f'{ukb_subjects_dir}/{ukb_subject_id}_{ukb_instance}/dMRI/dMRI/native.dMRI_space.{atlas_2_name}.nii.gz'\n",
    "atlas_1_image = nib.as_closest_canonical(nib.load(atlas_1))\n",
    "atlas_2_image = nib.as_closest_canonical(nib.load(atlas_2))\n",
    "\n",
    "# load atlas data\n",
    "atlas_1_data = atlas_1_image.get_fdata()\n",
    "atlas_2_data = atlas_2_image.get_fdata()\n",
    "\n",
    "# mask and shift atlas_2 labels\n",
    "data_mask = (atlas_1_data == 0)\n",
    "shift_mask = (atlas_2_data > 0)\n",
    "shift_value = cortical_labels['index'].max()\n",
    "atlas_2_data_masked_shifted = np.multiply((shift_mask & data_mask), (atlas_2_data + shift_value))\n",
    "\n",
    "combined_atlas_data = atlas_1_data + atlas_2_data_masked_shifted\n"
   ]
  },
  {
   "cell_type": "code",
   "execution_count": 132,
   "id": "e678629e-a9cb-44cc-a96d-86d022f2f040",
   "metadata": {},
   "outputs": [
    {
     "data": {
      "text/plain": [
       "3054"
      ]
     },
     "execution_count": 132,
     "metadata": {},
     "output_type": "execute_result"
    }
   ],
   "source": [
    "(shift_mask & ~data_mask).sum()"
   ]
  },
  {
   "cell_type": "code",
   "execution_count": 129,
   "id": "49489553-892c-4f12-91f5-a370da44cf9a",
   "metadata": {},
   "outputs": [
    {
     "data": {
      "text/plain": [
       "(('R', 'A', 'S'), ('R', 'A', 'S'))"
      ]
     },
     "execution_count": 129,
     "metadata": {},
     "output_type": "execute_result"
    }
   ],
   "source": [
    "# atlas_1_image.affine, atlas_2_image.affine\n",
    "# atlas_2_image.header.values()\n",
    "nib.aff2axcodes(atlas_1_image.affine), nib.aff2axcodes(atlas_2_image.affine)\n"
   ]
  },
  {
   "cell_type": "code",
   "execution_count": 136,
   "id": "5c684c7c-5e06-4c2e-84a3-b143c37c01e9",
   "metadata": {},
   "outputs": [],
   "source": [
    "nib.save(\n",
    "    nib.Nifti1Image(combined_atlas_data, atlas_1_image.affine, atlas_1_image.header),\n",
    "    f'{ukb_subjects_dir}/{ukb_subject_id}_{ukb_instance}/dMRI/dMRI/native.dMRI_space.{atlas_1_name}+{atlas_2_name}.nii.gz'\n",
    ")"
   ]
  },
  {
   "cell_type": "code",
   "execution_count": null,
   "id": "53df0b12-e2ea-45dd-b889-c20d3a40a070",
   "metadata": {},
   "outputs": [],
   "source": []
  }
 ],
 "metadata": {
  "kernelspec": {
   "display_name": "Python 3 (ipykernel)",
   "language": "python",
   "name": "python3"
  },
  "language_info": {
   "codemirror_mode": {
    "name": "ipython",
    "version": 3
   },
   "file_extension": ".py",
   "mimetype": "text/x-python",
   "name": "python",
   "nbconvert_exporter": "python",
   "pygments_lexer": "ipython3",
   "version": "3.8.10"
  }
 },
 "nbformat": 4,
 "nbformat_minor": 5
}
