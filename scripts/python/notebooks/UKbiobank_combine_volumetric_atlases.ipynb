{
 "cells": [
  {
   "cell_type": "code",
   "execution_count": 1,
   "id": "870089a5-1d49-4dfe-9bfd-4f4dbd164c4b",
   "metadata": {},
   "outputs": [],
   "source": [
    "import os\n",
    "import sys\n",
    "import time\n",
    "import datetime\n",
    "import numpy as np\n",
    "import pandas as pd\n",
    "import nibabel as nib\n",
    "from scipy import spatial\n",
    "from nibabel import freesurfer\n"
   ]
  },
  {
   "cell_type": "code",
   "execution_count": 2,
   "id": "223e5432-a9f1-4cc0-bbf1-7f0abc3e3d05",
   "metadata": {},
   "outputs": [],
   "source": [
    "def ensure_dir(file_name):\n",
    "    os.makedirs(os.path.dirname(file_name), exist_ok=True)\n",
    "    return file_name\n",
    "\n",
    "\n",
    "def time_str(mode='abs', base=None):\n",
    "    if mode == 'rel':\n",
    "        return str(datetime.timedelta(seconds=(time.time() - base)))\n",
    "    if mode == 'raw':\n",
    "        return time.time()\n",
    "    if mode == 'abs':\n",
    "        return time.asctime(time.localtime(time.time()))\n"
   ]
  },
  {
   "cell_type": "code",
   "execution_count": 77,
   "id": "f505d3a4-9a0a-4902-865e-bc23297bb057",
   "metadata": {},
   "outputs": [],
   "source": [
    "cortical_atlas_names = [\n",
    "    'Glasser', 'Schaefer7n100p', 'Schaefer7n200p', 'Schaefer7n300p', 'Schaefer7n400p', 'Schaefer7n500p',\n",
    "    'Schaefer7n600p', 'Schaefer7n700p', 'Schaefer7n800p', 'Schaefer7n900p', 'Schaefer7n1000p', 'Schaefer17n100p',\n",
    "    'Schaefer17n200p', 'Schaefer17n300p', 'Schaefer17n400p', 'Schaefer17n500p', 'Schaefer17n600p', 'Schaefer17n700p',\n",
    "    'Schaefer17n800p', 'Schaefer17n900p', 'Schaefer17n1000p', 'aparc', 'aparc.a2009s',\n",
    "]\n",
    "subcortical_atlas_names = [\n",
    "    \"Tian_Subcortex_S1_3T\", \"Tian_Subcortex_S2_3T\", \"Tian_Subcortex_S3_3T\", \"Tian_Subcortex_S4_3T\",\n",
    "]\n",
    "cols = ['index', 'label_name']\n",
    "for atlas_1_name in cortical_atlas_names:\n",
    "    for atlas_2_name in subcortical_atlas_names:\n",
    "        cortical_labels = pd.DataFrame(\n",
    "            np.genfromtxt(\n",
    "                '{}/atlases/labels/{}.ColorLUT.txt'.format(template_dir, atlas_1_name),\n",
    "                dtype='str'\n",
    "            ),\n",
    "            columns=['index', 'label_name', 'R', 'G', 'B', 'A'],\n",
    "        ).astype(\n",
    "            dtype={\n",
    "                \"index\": \"int\",\n",
    "                \"label_name\": \"str\",\n",
    "                \"R\": \"int\",\n",
    "                \"G\": \"int\",\n",
    "                \"B\": \"int\",\n",
    "                \"A\": \"int\",\n",
    "            }\n",
    "        )\n",
    "        \n",
    "        updated_cortical_labels = cortical_labels.copy()\n",
    "        updated_cortical_labels['label_name'] = [(f'{atlas_1_name}_' + x if x!='???' else x) for x in cortical_labels['label_name']]\n",
    "\n",
    "        subcortical_labels = pd.DataFrame(\n",
    "            ['???'] + list(np.genfromtxt(\n",
    "                '{}/atlases/labels/{}_label.txt'.format(template_dir, atlas_2_name),\n",
    "                dtype='str'\n",
    "            )),\n",
    "            columns=['label_name'],\n",
    "        ).astype(\n",
    "            dtype={\n",
    "                \"label_name\": \"str\",\n",
    "            }\n",
    "        )\n",
    "        subcortical_labels['index'] = subcortical_labels.index\n",
    "        \n",
    "        updated_subcortical_labels = subcortical_labels.copy()\n",
    "        updated_subcortical_labels['index'] = [((x + cortical_labels['index'].max()) if x!=0 else 0) for x in subcortical_labels['index']]\n",
    "        updated_subcortical_labels['label_name'] = f'{atlas_2_name}_' + subcortical_labels['label_name']\n",
    "        \n",
    "        combined_labels = pd.concat([updated_cortical_labels[cols], updated_subcortical_labels[1:][cols]])\n",
    "        \n",
    "        np.savetxt(\n",
    "            ensure_dir('{}/atlases/labels/combinations/C:{}+S:{}_label.txt'.format(template_dir, atlas_1_name, atlas_2_name)),\n",
    "            np.array(combined_labels[cols]),\n",
    "            fmt=['%d', '%s',]\n",
    "        )\n"
   ]
  },
  {
   "cell_type": "code",
   "execution_count": 3,
   "id": "8edf4749-0b4c-433b-9958-120de22f2294",
   "metadata": {},
   "outputs": [],
   "source": [
    "atlas_1_name = 'aparc'\n",
    "atlas_2_name = 'Tian_Subcortex_S4_3T'\n"
   ]
  },
  {
   "cell_type": "code",
   "execution_count": 6,
   "id": "7a2ad759-3619-46fc-b9f5-6e450398abe7",
   "metadata": {},
   "outputs": [],
   "source": [
    "cortical_labels = pd.DataFrame(\n",
    "    np.genfromtxt(\n",
    "        '{}/atlases/labels/{}.ColorLUT.txt'.format(template_dir, atlas_1_name),\n",
    "        dtype='str'\n",
    "    ),\n",
    "    columns=['index', 'label_name', 'R', 'G', 'B', 'A'],\n",
    ").astype(\n",
    "    dtype={\n",
    "        \"index\": \"int\",\n",
    "        \"label_name\": \"str\",\n",
    "        \"R\": \"int\",\n",
    "        \"G\": \"int\",\n",
    "        \"B\": \"int\",\n",
    "        \"A\": \"int\",\n",
    "    }\n",
    ")\n"
   ]
  },
  {
   "cell_type": "code",
   "execution_count": 8,
   "id": "a78d1c32-90c7-4105-8234-0dd5aecd6c0b",
   "metadata": {},
   "outputs": [],
   "source": [
    "template_dir = '/home/sina/Documents/Research/Codes/UKB-connectomics/data/templates'\n",
    "ukb_subjects_dir = '/home/sina/Documents/Research/Datasets/UK_biobank/sample'\n",
    "ukb_subject_id = '1000243'\n",
    "ukb_instance = '2_0'\n",
    "\n",
    "atlas_1 = f'{ukb_subjects_dir}/{ukb_subject_id}_{ukb_instance}/dMRI/dMRI/atlases/native.dMRI_space.{atlas_1_name}.nii.gz'\n",
    "atlas_2 = f'{ukb_subjects_dir}/{ukb_subject_id}_{ukb_instance}/dMRI/dMRI/atlases/native.dMRI_space.{atlas_2_name}.nii.gz'\n",
    "atlas_1_image = nib.as_closest_canonical(nib.load(atlas_1))\n",
    "atlas_2_image = nib.as_closest_canonical(nib.load(atlas_2))\n",
    "\n",
    "# load atlas data\n",
    "atlas_1_data = atlas_1_image.get_fdata()\n",
    "atlas_2_data = atlas_2_image.get_fdata()\n",
    "\n",
    "# mask and shift atlas_2 labels\n",
    "data_mask = (atlas_1_data == 0)\n",
    "shift_mask = (atlas_2_data > 0)\n",
    "shift_value = cortical_labels['index'].max()\n",
    "atlas_2_data_masked_shifted = np.multiply((shift_mask & data_mask), (atlas_2_data + shift_value))\n",
    "\n",
    "combined_atlas_data = atlas_1_data + atlas_2_data_masked_shifted\n"
   ]
  },
  {
   "cell_type": "code",
   "execution_count": 132,
   "id": "e678629e-a9cb-44cc-a96d-86d022f2f040",
   "metadata": {},
   "outputs": [
    {
     "data": {
      "text/plain": [
       "3054"
      ]
     },
     "execution_count": 132,
     "metadata": {},
     "output_type": "execute_result"
    }
   ],
   "source": [
    "(shift_mask & ~data_mask).sum()"
   ]
  },
  {
   "cell_type": "code",
   "execution_count": 9,
   "id": "49489553-892c-4f12-91f5-a370da44cf9a",
   "metadata": {},
   "outputs": [
    {
     "data": {
      "text/plain": [
       "(('R', 'A', 'S'), ('R', 'A', 'S'))"
      ]
     },
     "execution_count": 9,
     "metadata": {},
     "output_type": "execute_result"
    }
   ],
   "source": [
    "# atlas_1_image.affine, atlas_2_image.affine\n",
    "# atlas_2_image.header.values()\n",
    "nib.aff2axcodes(atlas_1_image.affine), nib.aff2axcodes(atlas_2_image.affine)\n"
   ]
  },
  {
   "cell_type": "code",
   "execution_count": 13,
   "id": "0a78d673-a7a9-4596-a604-08356c783972",
   "metadata": {},
   "outputs": [],
   "source": [
    "new_header = atlas_1_image.header.copy()\n",
    "new_header.set_slope_inter(1, 0)"
   ]
  },
  {
   "cell_type": "code",
   "execution_count": 14,
   "id": "8be985a0-7e31-4bbd-abc6-b2e8aef17984",
   "metadata": {},
   "outputs": [
    {
     "data": {
      "text/plain": [
       "(1.0, 0.0)"
      ]
     },
     "execution_count": 14,
     "metadata": {},
     "output_type": "execute_result"
    }
   ],
   "source": [
    "new_header.get_slope_inter()"
   ]
  },
  {
   "cell_type": "code",
   "execution_count": 18,
   "id": "b46cbef0-9435-407a-a534-28bb7a43979a",
   "metadata": {},
   "outputs": [],
   "source": [
    "new_image = nib.Nifti1Image(combined_atlas_data, atlas_1_image.affine, new_header)"
   ]
  },
  {
   "cell_type": "code",
   "execution_count": 20,
   "id": "e3e6f750-5d44-4dde-b522-a9c7cee245f4",
   "metadata": {},
   "outputs": [
    {
     "data": {
      "text/plain": [
       "(1.0, 0.0)"
      ]
     },
     "execution_count": 20,
     "metadata": {},
     "output_type": "execute_result"
    }
   ],
   "source": [
    "new_header.get_slope_inter()"
   ]
  },
  {
   "cell_type": "code",
   "execution_count": 23,
   "id": "9c3c1b1d-f4ac-47d2-9122-a2301baa4ccb",
   "metadata": {},
   "outputs": [
    {
     "data": {
      "text/plain": [
       "{'sizeof_hdr': array(348, dtype=int32),\n",
       " 'data_type': array(b'', dtype='|S10'),\n",
       " 'db_name': array(b'transform modifie', dtype='|S18'),\n",
       " 'extents': array(16384, dtype=int32),\n",
       " 'session_error': array(0, dtype=int16),\n",
       " 'regular': array(b'r', dtype='|S1'),\n",
       " 'dim_info': array(0, dtype=uint8),\n",
       " 'dim': array([  3, 256, 256, 256,   1,   1,   1,   1], dtype=int16),\n",
       " 'intent_p1': array(0., dtype=float32),\n",
       " 'intent_p2': array(0., dtype=float32),\n",
       " 'intent_p3': array(0., dtype=float32),\n",
       " 'intent_code': array(0, dtype=int16),\n",
       " 'datatype': array(768, dtype=int16),\n",
       " 'bitpix': array(32, dtype=int16),\n",
       " 'slice_start': array(0, dtype=int16),\n",
       " 'pixdim': array([1.        , 1.        , 1.        , 0.99999994, 0.        ,\n",
       "        0.        , 0.        , 0.        ], dtype=float32),\n",
       " 'vox_offset': array(0., dtype=float32),\n",
       " 'scl_slope': array(1., dtype=float32),\n",
       " 'scl_inter': array(0., dtype=float32),\n",
       " 'slice_end': array(0, dtype=int16),\n",
       " 'slice_code': array(0, dtype=uint8),\n",
       " 'xyzt_units': array(10, dtype=uint8),\n",
       " 'cal_max': array(0., dtype=float32),\n",
       " 'cal_min': array(0., dtype=float32),\n",
       " 'slice_duration': array(0., dtype=float32),\n",
       " 'toffset': array(0., dtype=float32),\n",
       " 'glmax': array(0, dtype=int32),\n",
       " 'glmin': array(0, dtype=int32),\n",
       " 'descrip': array(b'MRtrix version: 3.0.3-49-g99449855', dtype='|S80'),\n",
       " 'aux_file': array(b'', dtype='|S24'),\n",
       " 'qform_code': array(0, dtype=int16),\n",
       " 'sform_code': array(2, dtype=int16),\n",
       " 'quatern_b': array(0.01047979, dtype=float32),\n",
       " 'quatern_c': array(0.00066548, dtype=float32),\n",
       " 'quatern_d': array(0.01039146, dtype=float32),\n",
       " 'qoffset_x': array(-120.544586, dtype=float32),\n",
       " 'qoffset_y': array(-151.62961, dtype=float32),\n",
       " 'qoffset_z': array(-146.6613, dtype=float32),\n",
       " 'srow_x': array([ 9.99783158e-01, -2.07667053e-02,  1.54860469e-03, -1.20544586e+02],\n",
       "       dtype=float32),\n",
       " 'srow_y': array([ 2.0794591e-02,  9.9956441e-01, -2.0943444e-02, -1.5162961e+02],\n",
       "       dtype=float32),\n",
       " 'srow_z': array([-1.1130124e-03,  2.0971145e-02,  9.9977940e-01, -1.4666130e+02],\n",
       "       dtype=float32),\n",
       " 'intent_name': array(b'', dtype='|S16'),\n",
       " 'magic': array(b'n+1', dtype='|S4')}"
      ]
     },
     "execution_count": 23,
     "metadata": {},
     "output_type": "execute_result"
    }
   ],
   "source": [
    "dict(new_header)"
   ]
  },
  {
   "cell_type": "code",
   "execution_count": 19,
   "id": "2d602008-8209-4e35-ab99-7633f01e4d75",
   "metadata": {},
   "outputs": [
    {
     "data": {
      "text/plain": [
       "(None, None)"
      ]
     },
     "execution_count": 19,
     "metadata": {},
     "output_type": "execute_result"
    }
   ],
   "source": [
    "new_image.header.get_slope_inter()"
   ]
  },
  {
   "cell_type": "code",
   "execution_count": 26,
   "id": "bea0a5f4-0bd4-4ae6-83d3-21bf8db68659",
   "metadata": {},
   "outputs": [],
   "source": [
    "new_image.header.set_slope_inter(1, 0)"
   ]
  },
  {
   "cell_type": "code",
   "execution_count": 27,
   "id": "c4bb6b8e-7214-4990-95ef-aefa97227f3e",
   "metadata": {},
   "outputs": [
    {
     "data": {
      "text/plain": [
       "{'sizeof_hdr': array(348, dtype=int32),\n",
       " 'data_type': array(b'', dtype='|S10'),\n",
       " 'db_name': array(b'transform modifie', dtype='|S18'),\n",
       " 'extents': array(16384, dtype=int32),\n",
       " 'session_error': array(0, dtype=int16),\n",
       " 'regular': array(b'r', dtype='|S1'),\n",
       " 'dim_info': array(0, dtype=uint8),\n",
       " 'dim': array([  3, 256, 256, 256,   1,   1,   1,   1], dtype=int16),\n",
       " 'intent_p1': array(0., dtype=float32),\n",
       " 'intent_p2': array(0., dtype=float32),\n",
       " 'intent_p3': array(0., dtype=float32),\n",
       " 'intent_code': array(0, dtype=int16),\n",
       " 'datatype': array(768, dtype=int16),\n",
       " 'bitpix': array(32, dtype=int16),\n",
       " 'slice_start': array(0, dtype=int16),\n",
       " 'pixdim': array([1.        , 1.        , 1.        , 0.99999994, 0.        ,\n",
       "        0.        , 0.        , 0.        ], dtype=float32),\n",
       " 'vox_offset': array(0., dtype=float32),\n",
       " 'scl_slope': array(1., dtype=float32),\n",
       " 'scl_inter': array(0., dtype=float32),\n",
       " 'slice_end': array(0, dtype=int16),\n",
       " 'slice_code': array(0, dtype=uint8),\n",
       " 'xyzt_units': array(10, dtype=uint8),\n",
       " 'cal_max': array(0., dtype=float32),\n",
       " 'cal_min': array(0., dtype=float32),\n",
       " 'slice_duration': array(0., dtype=float32),\n",
       " 'toffset': array(0., dtype=float32),\n",
       " 'glmax': array(0, dtype=int32),\n",
       " 'glmin': array(0, dtype=int32),\n",
       " 'descrip': array(b'MRtrix version: 3.0.3-49-g99449855', dtype='|S80'),\n",
       " 'aux_file': array(b'', dtype='|S24'),\n",
       " 'qform_code': array(0, dtype=int16),\n",
       " 'sform_code': array(2, dtype=int16),\n",
       " 'quatern_b': array(0.01047979, dtype=float32),\n",
       " 'quatern_c': array(0.00066548, dtype=float32),\n",
       " 'quatern_d': array(0.01039146, dtype=float32),\n",
       " 'qoffset_x': array(-120.544586, dtype=float32),\n",
       " 'qoffset_y': array(-151.62961, dtype=float32),\n",
       " 'qoffset_z': array(-146.6613, dtype=float32),\n",
       " 'srow_x': array([ 9.99783158e-01, -2.07667053e-02,  1.54860469e-03, -1.20544586e+02],\n",
       "       dtype=float32),\n",
       " 'srow_y': array([ 2.0794591e-02,  9.9956441e-01, -2.0943444e-02, -1.5162961e+02],\n",
       "       dtype=float32),\n",
       " 'srow_z': array([-1.1130124e-03,  2.0971145e-02,  9.9977940e-01, -1.4666130e+02],\n",
       "       dtype=float32),\n",
       " 'intent_name': array(b'', dtype='|S16'),\n",
       " 'magic': array(b'n+1', dtype='|S4')}"
      ]
     },
     "execution_count": 27,
     "metadata": {},
     "output_type": "execute_result"
    }
   ],
   "source": [
    "dict(new_image.header)"
   ]
  },
  {
   "cell_type": "code",
   "execution_count": 136,
   "id": "5c684c7c-5e06-4c2e-84a3-b143c37c01e9",
   "metadata": {},
   "outputs": [],
   "source": [
    "nib.save(\n",
    "    nib.Nifti1Image(combined_atlas_data, atlas_1_image.affine, atlas_1_image.header),\n",
    "    f'{ukb_subjects_dir}/{ukb_subject_id}_{ukb_instance}/dMRI/dMRI/native.dMRI_space.{atlas_1_name}+{atlas_2_name}.nii.gz'\n",
    ")"
   ]
  },
  {
   "cell_type": "code",
   "execution_count": null,
   "id": "53df0b12-e2ea-45dd-b889-c20d3a40a070",
   "metadata": {},
   "outputs": [],
   "source": []
  }
 ],
 "metadata": {
  "kernelspec": {
   "display_name": "Python 3 (ipykernel)",
   "language": "python",
   "name": "python3"
  },
  "language_info": {
   "codemirror_mode": {
    "name": "ipython",
    "version": 3
   },
   "file_extension": ".py",
   "mimetype": "text/x-python",
   "name": "python",
   "nbconvert_exporter": "python",
   "pygments_lexer": "ipython3",
   "version": "3.8.10"
  }
 },
 "nbformat": 4,
 "nbformat_minor": 5
}
