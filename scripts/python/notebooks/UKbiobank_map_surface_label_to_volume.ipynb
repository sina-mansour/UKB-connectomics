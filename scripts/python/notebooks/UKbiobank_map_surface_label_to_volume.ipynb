{
 "cells": [
  {
   "cell_type": "code",
   "execution_count": 1,
   "id": "british-galaxy",
   "metadata": {},
   "outputs": [],
   "source": [
    "import os\n",
    "import gc\n",
    "import sys\n",
    "import random\n",
    "import datetime\n",
    "import importlib\n",
    "import itertools\n",
    "import numpy as np\n",
    "from scipy import spatial\n",
    "import scipy.sparse as sparse\n",
    "import scipy.stats as stats\n",
    "import pandas as pd\n",
    "import nibabel as nib\n",
    "import matplotlib.pyplot as plt\n",
    "import seaborn as sns\n",
    "\n",
    "from mayavi import mlab\n",
    "\n",
    "# os.chdir('/media/sina/Windows1/Users/smansourlako/Documents/Reserach/Codes/fMRI')\n",
    "os.chdir('/home/sina/Documents/Research/Codes/fMRI')\n",
    "\n",
    "# import constants as cs\n",
    "import myconstants as cs\n",
    "# import importlib.util\n",
    "# spec = importlib.util.spec_from_file_location('cs', '/home/sina/Documents/Research/Codes/fMRI/constants.py')\n",
    "# cs = importlib.util.module_from_spec(spec)\n",
    "# sys.modules['cs'] = cs\n",
    "# spec.loader.exec_module(cs)\n",
    "import utils\n",
    "import niutils\n",
    "import hcp\n"
   ]
  },
  {
   "cell_type": "markdown",
   "id": "sophisticated-boards",
   "metadata": {},
   "source": [
    "---\n",
    "\n",
    "Let's first load all the files needed:"
   ]
  },
  {
   "cell_type": "code",
   "execution_count": 2,
   "id": "desirable-ordering",
   "metadata": {},
   "outputs": [],
   "source": [
    "from nibabel import freesurfer\n",
    "\n",
    "# load the pial and white surfaces for left and right hemispheres\n",
    "\n",
    "# each loaded object is a python tuple containing two elements:\n",
    "#     1. the coordinates of all vertices\n",
    "#     2. the triangle information of the mesh\n",
    "\n",
    "lh_pial_surf = freesurfer.read_geometry('/home/sina/Documents/Research/Datasets/UK_biobank/sample/1000094/FreeSurfer/surf/lh.pial')\n",
    "lh_white_surf = freesurfer.read_geometry('/home/sina/Documents/Research/Datasets/UK_biobank/sample/1000094/FreeSurfer/surf/lh.white')\n",
    "\n",
    "rh_pial_surf = freesurfer.read_geometry('/home/sina/Documents/Research/Datasets/UK_biobank/sample/1000094/FreeSurfer/surf/rh.pial')\n",
    "rh_white_surf = freesurfer.read_geometry('/home/sina/Documents/Research/Datasets/UK_biobank/sample/1000094/FreeSurfer/surf/rh.white')\n",
    "\n"
   ]
  },
  {
   "cell_type": "code",
   "execution_count": 83,
   "id": "exterior-number",
   "metadata": {},
   "outputs": [
    {
     "data": {
      "text/plain": [
       "((127142, 3), (131099, 3), (127142, 3), (131099, 3))"
      ]
     },
     "execution_count": 83,
     "metadata": {},
     "output_type": "execute_result"
    }
   ],
   "source": [
    "# coordinates\n",
    "(lh_pial_surf[0].shape, rh_pial_surf[0].shape, lh_white_surf[0].shape, rh_white_surf[0].shape)"
   ]
  },
  {
   "cell_type": "code",
   "execution_count": 16,
   "id": "found-alarm",
   "metadata": {},
   "outputs": [
    {
     "data": {
      "text/plain": [
       "(262194, 3)"
      ]
     },
     "execution_count": 16,
     "metadata": {},
     "output_type": "execute_result"
    }
   ],
   "source": [
    "# triangles\n",
    "lh_pial_surf[1].shape"
   ]
  },
  {
   "cell_type": "code",
   "execution_count": 28,
   "id": "hindu-xerox",
   "metadata": {},
   "outputs": [],
   "source": [
    "# Now let's load the surface atlas mapped to each surface\n",
    "\n",
    "# each loaded object is a python tuple containing 3 elements:\n",
    "#     1. A list of integers indicating the label of each vertex\n",
    "#     2. A table for the color of each label (r, g, b, t, colortable array id)\n",
    "#     3. A list names of the lables\n",
    "\n",
    "\n",
    "# lh_glasser_annot = freesurfer.read_annot('/home/sina/Documents/Research/Datasets/UK_biobank/sample/1000094/FreeSurfer/label/lh.native.glasser.annot')\n",
    "# rh_glasser_annot = freesurfer.read_annot('/home/sina/Documents/Research/Datasets/UK_biobank/sample/1000094/FreeSurfer/label/rh.native.glasser.annot')\n",
    "\n",
    "lh_glasser_annot = freesurfer.read_annot('/home/sina/Documents/Research/Codes/UKB-connectomics/data/temporary/subjects/test_sub/atlases/lh.native.Schaefer7n500p.annot')\n",
    "rh_glasser_annot = freesurfer.read_annot('/home/sina/Documents/Research/Codes/UKB-connectomics/data/temporary/subjects/test_sub/atlases/rh.native.Schaefer7n500p.annot')\n",
    "\n"
   ]
  },
  {
   "cell_type": "code",
   "execution_count": 4,
   "id": "precise-peripheral",
   "metadata": {},
   "outputs": [
    {
     "data": {
      "text/plain": [
       "array([184, 184, 184, ..., 249, 249, 249], dtype=int32)"
      ]
     },
     "execution_count": 4,
     "metadata": {},
     "output_type": "execute_result"
    }
   ],
   "source": [
    "lh_glasser_annot[0]"
   ]
  },
  {
   "cell_type": "code",
   "execution_count": 30,
   "id": "da613ca9-a30b-4b2a-978b-315868e4fdbd",
   "metadata": {},
   "outputs": [
    {
     "data": {
      "text/plain": [
       "array([  0,   1,   2,   3,   4,   6,   7,   9,  11,  12,  14,  15,  17,\n",
       "        18,  19,  20,  23,  26,  33,  34,  35,  36,  37,  38,  39,  40,\n",
       "        42,  44,  46,  47,  50,  54,  55,  57,  58,  59,  62,  63,  67,\n",
       "        68,  69,  73,  74,  75,  77,  78,  79,  81,  83,  85,  87,  88,\n",
       "        89,  90,  91,  92,  93,  95,  96,  97,  98,  99, 100, 101, 102,\n",
       "       103, 106, 107, 109, 110, 111, 113, 114, 115, 116, 117, 118, 119,\n",
       "       120, 121, 122, 123, 124, 125, 126, 127, 128, 129, 130, 131, 132,\n",
       "       134, 135, 138, 139, 140, 141, 142, 143, 144, 145, 146, 147, 148,\n",
       "       149, 155, 156, 157, 158, 159, 160, 162, 163, 164, 165, 166, 167,\n",
       "       168, 169, 170, 171, 172, 173, 174, 175, 176, 177, 178, 179, 180,\n",
       "       181, 182, 183, 184, 185, 188, 189, 190, 192, 193, 200, 201, 202,\n",
       "       203, 204, 205, 206, 207, 208, 209, 210, 211, 212, 214, 215, 216,\n",
       "       217, 218, 219, 220, 221, 222, 223, 224, 225, 226, 227, 228, 229,\n",
       "       230, 231, 232, 233, 234, 235, 236, 237, 238, 239, 240, 241, 242,\n",
       "       243, 244, 245, 246, 247, 248, 249, 250, 251, 252, 255, 257, 259,\n",
       "       260, 263, 266, 268, 269, 271, 272, 273, 274, 275, 276, 277, 278,\n",
       "       279, 281, 287, 289, 291, 293, 294, 295, 297, 298, 299, 301, 302,\n",
       "       306, 307, 308, 310, 311, 312, 315, 316, 317, 318, 322, 323, 326,\n",
       "       328, 330, 331, 332, 333, 334, 335, 336, 338, 339, 340, 341, 342,\n",
       "       343, 345, 346, 348, 351, 352, 353, 354, 355, 356, 357, 358, 359,\n",
       "       360, 361, 362, 363, 364, 365, 367, 368, 371, 372, 373, 374, 375,\n",
       "       376, 377, 378, 379, 380, 381, 382, 383, 384, 385, 386, 387, 388,\n",
       "       389, 390, 391, 392, 393, 394, 395, 396, 398, 399, 400, 401, 402,\n",
       "       403, 404, 405, 406, 407, 408, 409, 410, 411, 412, 413, 414, 415,\n",
       "       416, 417, 418, 419, 420, 421, 422, 423, 424, 425, 426, 427, 428,\n",
       "       429, 430, 431, 432, 433, 434, 435, 436, 437, 438, 439, 440, 441,\n",
       "       442, 443, 444, 445, 446, 447, 448, 449, 452, 453, 455, 456, 457,\n",
       "       458, 459, 460, 461, 462, 463, 464, 465, 466, 467, 468, 469, 470,\n",
       "       471, 473, 474, 475, 476, 477, 478, 479, 480, 481, 482, 483, 484,\n",
       "       485, 486, 487, 488, 489, 490, 491, 492, 493, 494, 495, 496, 497,\n",
       "       498, 499, 500], dtype=int32)"
      ]
     },
     "execution_count": 30,
     "metadata": {},
     "output_type": "execute_result"
    }
   ],
   "source": [
    "np.unique(np.concatenate([lh_glasser_annot[0], rh_glasser_annot[0]]))"
   ]
  },
  {
   "cell_type": "code",
   "execution_count": 29,
   "id": "87a64e7d-f868-4c3f-99a3-5a2fc6caeba6",
   "metadata": {},
   "outputs": [
    {
     "data": {
      "text/plain": [
       "393"
      ]
     },
     "execution_count": 29,
     "metadata": {},
     "output_type": "execute_result"
    }
   ],
   "source": [
    "len(np.unique(np.concatenate([lh_glasser_annot[0], rh_glasser_annot[0]])))"
   ]
  },
  {
   "cell_type": "code",
   "execution_count": 85,
   "id": "peaceful-glory",
   "metadata": {},
   "outputs": [
    {
     "data": {
      "text/plain": [
       "((127142,), (131099,))"
      ]
     },
     "execution_count": 85,
     "metadata": {},
     "output_type": "execute_result"
    }
   ],
   "source": [
    "(lh_glasser_annot[0].shape, rh_glasser_annot[0].shape)"
   ]
  },
  {
   "cell_type": "code",
   "execution_count": 25,
   "id": "brilliant-profession",
   "metadata": {},
   "outputs": [
    {
     "data": {
      "text/plain": [
       "array([[     255,      255,      255,      255, 16777215],\n",
       "       [      69,        0,      255,        0, 16711749],\n",
       "       [      49,      109,      132,        0,  8678705],\n",
       "       ...,\n",
       "       [     116,       48,       46,        0,  3027060],\n",
       "       [     133,       69,       90,        0,  5916037],\n",
       "       [     122,       37,       73,        0,  4793722]], dtype=int32)"
      ]
     },
     "execution_count": 25,
     "metadata": {},
     "output_type": "execute_result"
    }
   ],
   "source": [
    "lh_glasser_annot[1]"
   ]
  },
  {
   "cell_type": "code",
   "execution_count": 32,
   "id": "legendary-direction",
   "metadata": {},
   "outputs": [
    {
     "data": {
      "text/plain": [
       "[b'???', b'R_V1_ROI', b'R_MST_ROI', b'R_V6_ROI', b'R_V2_ROI', b'R_V3_ROI']"
      ]
     },
     "execution_count": 32,
     "metadata": {},
     "output_type": "execute_result"
    }
   ],
   "source": [
    "lh_glasser_annot[2][:6]"
   ]
  },
  {
   "cell_type": "code",
   "execution_count": 4,
   "id": "incorrect-bridal",
   "metadata": {},
   "outputs": [],
   "source": [
    "# Finally we need to load the ribbon mask to use as a reference for voxels to be labeled (only label voxels in the cortical ribbon)\n",
    "\n",
    "# The ribbon file can be read using nibabel. The saved object is an MGHImage object containing the affine matrix, as well as the labels in a 3d data matrix\n",
    "# Check https://nipy.org/nibabel/reference/nibabel.freesurfer.html#nibabel.freesurfer.mghformat.MGHImage\n",
    "\n",
    "# Label numbers are from the FreeSurferColorLUT (https://surfer.nmr.mgh.harvard.edu/fswiki/FsTutorial/AnatomicalROI/FreeSurferColorLUT) lookup table and has 5 values:\n",
    "#     0: Unknown\n",
    "#     2: Left-Cerebral-White-Matter\n",
    "#     3: Left-Cerebral-Cortex\n",
    "#     41: Right-Cerebral-White-Matter\n",
    "#     42: Right-Cerebral-Cortex\n",
    "\n",
    "ribbon = nib.load('/home/sina/Documents/Research/Datasets/UK_biobank/sample/1000094/FreeSurfer/mri/ribbon.mgz')\n"
   ]
  },
  {
   "cell_type": "code",
   "execution_count": 36,
   "id": "enhanced-motorcycle",
   "metadata": {},
   "outputs": [
    {
     "data": {
      "text/plain": [
       "<nibabel.freesurfer.mghformat.MGHImage at 0x7fbd737389a0>"
      ]
     },
     "execution_count": 36,
     "metadata": {},
     "output_type": "execute_result"
    }
   ],
   "source": [
    "ribbon"
   ]
  },
  {
   "cell_type": "code",
   "execution_count": 38,
   "id": "divine-contrast",
   "metadata": {},
   "outputs": [
    {
     "data": {
      "text/plain": [
       "array([[-1.00000000e+00,  0.00000000e+00,  1.16415322e-10,\n",
       "         1.28081192e+02],\n",
       "       [ 1.16415322e-10,  2.98023224e-08,  1.00000012e+00,\n",
       "        -1.66473007e+02],\n",
       "       [ 2.32830644e-10, -1.00000012e+00,  0.00000000e+00,\n",
       "         6.58933563e+01],\n",
       "       [ 0.00000000e+00,  0.00000000e+00,  0.00000000e+00,\n",
       "         1.00000000e+00]])"
      ]
     },
     "execution_count": 38,
     "metadata": {},
     "output_type": "execute_result"
    }
   ],
   "source": [
    "ribbon.affine"
   ]
  },
  {
   "cell_type": "code",
   "execution_count": 177,
   "id": "about-auckland",
   "metadata": {},
   "outputs": [
    {
     "data": {
      "text/plain": [
       "array([[  -1.,    0.,    0.,  128.],\n",
       "       [   0.,    0.,    1., -128.],\n",
       "       [   0.,   -1.,    0.,  128.],\n",
       "       [   0.,    0.,    0.,    1.]], dtype=float32)"
      ]
     },
     "execution_count": 177,
     "metadata": {},
     "output_type": "execute_result"
    }
   ],
   "source": [
    "# Note: the vox2ras_tkr is different from the affine!\n",
    "# Question: which one should be used? -- needs to be tested to be verified\n",
    "ribbon.header.get_vox2ras_tkr()"
   ]
  },
  {
   "cell_type": "code",
   "execution_count": 185,
   "id": "functional-magic",
   "metadata": {},
   "outputs": [
    {
     "data": {
      "text/plain": [
       "array([[-1.0000000e+00,  0.0000000e+00,  1.1641532e-10,  1.2808119e+02],\n",
       "       [ 1.1641532e-10,  2.9802322e-08,  1.0000001e+00, -1.6647301e+02],\n",
       "       [ 2.3283064e-10, -1.0000001e+00,  0.0000000e+00,  6.5893356e+01],\n",
       "       [ 0.0000000e+00,  0.0000000e+00,  0.0000000e+00,  1.0000000e+00]],\n",
       "      dtype=float32)"
      ]
     },
     "execution_count": 185,
     "metadata": {},
     "output_type": "execute_result"
    }
   ],
   "source": [
    "# Note: the vox2ras_tkr is different from the affine!\n",
    "# Question: which one should be used? -- needs to be tested to be verified\n",
    "ribbon.header.get_vox2ras()"
   ]
  },
  {
   "cell_type": "code",
   "execution_count": 186,
   "id": "minute-alpha",
   "metadata": {},
   "outputs": [
    {
     "data": {
      "text/plain": [
       "array([[-1.00000000e+00,  1.16415308e-10,  3.46944612e-18,\n",
       "         1.28081192e+02],\n",
       "       [-2.32830616e-10,  2.71050478e-20, -9.99999881e-01,\n",
       "         6.58933487e+01],\n",
       "       [ 1.16415315e-10,  9.99999881e-01,  2.98023153e-08,\n",
       "         1.66472992e+02],\n",
       "       [ 0.00000000e+00,  0.00000000e+00,  0.00000000e+00,\n",
       "         1.00000000e+00]], dtype=float32)"
      ]
     },
     "execution_count": 186,
     "metadata": {},
     "output_type": "execute_result"
    }
   ],
   "source": [
    "# Note: the vox2ras_tkr is different from the affine!\n",
    "# Question: which one should be used? -- needs to be tested to be verified\n",
    "ribbon.header.get_ras2vox()"
   ]
  },
  {
   "cell_type": "code",
   "execution_count": 51,
   "id": "suburban-texas",
   "metadata": {},
   "outputs": [
    {
     "data": {
      "text/plain": [
       "(256, 256, 256)"
      ]
     },
     "execution_count": 51,
     "metadata": {},
     "output_type": "execute_result"
    }
   ],
   "source": [
    "ribbon.get_fdata().shape"
   ]
  },
  {
   "cell_type": "code",
   "execution_count": 50,
   "id": "legislative-honey",
   "metadata": {},
   "outputs": [
    {
     "data": {
      "text/plain": [
       "array([ 0.,  2.,  3., 41., 42.])"
      ]
     },
     "execution_count": 50,
     "metadata": {},
     "output_type": "execute_result"
    }
   ],
   "source": [
    "np.unique(ribbon.get_fdata())"
   ]
  },
  {
   "cell_type": "code",
   "execution_count": 5,
   "id": "computational-handbook",
   "metadata": {},
   "outputs": [],
   "source": [
    "id_to_label = {\n",
    "    0: 'Unknown',\n",
    "    2: 'Left-Cerebral-White-Matter',\n",
    "    3: 'Left-Cerebral-Cortex',\n",
    "    41: 'Right-Cerebral-White-Matter',\n",
    "    42: 'Right-Cerebral-Cortex',\n",
    "}\n",
    "\n",
    "label_id = {id_to_label[x]:x for x in id_to_label}\n"
   ]
  },
  {
   "cell_type": "code",
   "execution_count": 7,
   "id": "further-handle",
   "metadata": {},
   "outputs": [
    {
     "data": {
      "text/plain": [
       "{'Unknown': 0,\n",
       " 'Left-Cerebral-White-Matter': 2,\n",
       " 'Left-Cerebral-Cortex': 3,\n",
       " 'Right-Cerebral-White-Matter': 41,\n",
       " 'Right-Cerebral-Cortex': 42}"
      ]
     },
     "execution_count": 7,
     "metadata": {},
     "output_type": "execute_result"
    }
   ],
   "source": [
    "label_id"
   ]
  },
  {
   "cell_type": "code",
   "execution_count": 75,
   "id": "continued-ceiling",
   "metadata": {},
   "outputs": [
    {
     "data": {
      "text/plain": [
       "['Unknown',\n",
       " 'Left-Cerebral-White-Matter',\n",
       " 'Left-Cerebral-Cortex',\n",
       " 'Right-Cerebral-White-Matter',\n",
       " 'Right-Cerebral-Cortex']"
      ]
     },
     "execution_count": 75,
     "metadata": {},
     "output_type": "execute_result"
    }
   ],
   "source": [
    "[id_to_label[x] for x in np.unique(ribbon.get_fdata())]"
   ]
  },
  {
   "cell_type": "code",
   "execution_count": 7,
   "id": "anonymous-hometown",
   "metadata": {},
   "outputs": [],
   "source": [
    "# Finally we need to load the ribbon mask to use as a reference for voxels to be labeled (only label voxels in the cortical ribbon)\n",
    "\n",
    "# The ribbon file can be read using nibabel. The saved object is an MGHImage object containing the affine matrix, as well as the labels in a 3d data matrix\n",
    "# Check https://nipy.org/nibabel/reference/nibabel.freesurfer.html#nibabel.freesurfer.mghformat.MGHImage\n",
    "\n",
    "# Label numbers are from the FreeSurferColorLUT (https://surfer.nmr.mgh.harvard.edu/fswiki/FsTutorial/AnatomicalROI/FreeSurferColorLUT) lookup table and has 5 values:\n",
    "#     0: Unknown\n",
    "#     2: Left-Cerebral-White-Matter\n",
    "#     3: Left-Cerebral-Cortex\n",
    "#     41: Right-Cerebral-White-Matter\n",
    "#     42: Right-Cerebral-Cortex\n",
    "\n",
    "ribbon = nib.load('/home/sina/Documents/Research/Datasets/UK_biobank/sample/1000094/FreeSurfer/mri/ribbon.mgz')\n",
    "\n",
    "# Given the potential problems with mgz files, mainly the overflow of uint8, I tried converting the original ngz to nii\n",
    "# the following command was used:\n",
    "# mri_convert --in_type mgz --out_type nii --out_orientation RAS FreeSurfer/mri/ribbon.mgz FreeSurfer/mri/ribbon.nii.gz\n",
    "\n",
    "# ribbonnii = nib.load('/home/sina/Documents/Research/Datasets/UK biobank/sample/1000094/FreeSurfer/mri/ribbon.nii.gz')\n"
   ]
  },
  {
   "cell_type": "code",
   "execution_count": 8,
   "id": "departmental-focus",
   "metadata": {},
   "outputs": [
    {
     "data": {
      "text/plain": [
       "<nibabel.freesurfer.mghformat.MGHImage at 0x7fcc884dc1c0>"
      ]
     },
     "execution_count": 8,
     "metadata": {},
     "output_type": "execute_result"
    }
   ],
   "source": [
    "ribbon"
   ]
  },
  {
   "cell_type": "markdown",
   "id": "bottom-modem",
   "metadata": {},
   "source": [
    "---\n",
    "\n",
    "Now we can generate the new volumetric labels:"
   ]
  },
  {
   "cell_type": "code",
   "execution_count": 9,
   "id": "violent-throw",
   "metadata": {},
   "outputs": [],
   "source": [
    "# We'll use kdtree's to store the coordinates in data structure to query for nearest neighbor\n",
    "\n",
    "# One kdtree per hemisphere\n",
    "\n",
    "lh_pial_xyz = lh_pial_surf[0]\n",
    "lh_white_xyz = lh_white_surf[0]\n",
    "lh_xyz = np.vstack([lh_pial_xyz, lh_white_xyz])\n",
    "# lh_white_kdtree = spatial.KDTree(lh_white_xyz)\n",
    "# lh_pial_kdtree = spatial.KDTree(lh_pial_xyz)\n",
    "lh_kdtree = spatial.KDTree(lh_xyz)\n",
    "\n",
    "rh_pial_xyz = rh_pial_surf[0]\n",
    "rh_white_xyz = rh_white_surf[0]\n",
    "rh_xyz = np.vstack([rh_pial_xyz, rh_white_xyz])\n",
    "# rh_white_kdtree = spatial.KDTree(rh_white_xyz)\n",
    "# rh_pial_kdtree = spatial.KDTree(rh_pial_xyz)\n",
    "rh_kdtree = spatial.KDTree(rh_xyz)\n"
   ]
  },
  {
   "cell_type": "code",
   "execution_count": 173,
   "id": "formal-interview",
   "metadata": {},
   "outputs": [
    {
     "data": {
      "text/plain": [
       "array([-71.22108459, -82.33670807, -45.23505402])"
      ]
     },
     "execution_count": 173,
     "metadata": {},
     "output_type": "execute_result"
    }
   ],
   "source": [
    "np.min(lh_xyz, axis=0)"
   ]
  },
  {
   "cell_type": "code",
   "execution_count": 172,
   "id": "rough-topic",
   "metadata": {},
   "outputs": [
    {
     "data": {
      "text/plain": [
       "array([ -70.91880797, -120.47299741, -107.10666426])"
      ]
     },
     "execution_count": 172,
     "metadata": {},
     "output_type": "execute_result"
    }
   ],
   "source": [
    "np.min(lh_cortex_xyz, axis=0)"
   ]
  },
  {
   "cell_type": "code",
   "execution_count": 10,
   "id": "variable-script",
   "metadata": {},
   "outputs": [],
   "source": [
    "# create a copy of the ribbon label file to overwrite\n",
    "glasser_labels = (ribbon.get_fdata().copy()*0).astype(float)\n"
   ]
  },
  {
   "cell_type": "code",
   "execution_count": 11,
   "id": "becoming-assessment",
   "metadata": {},
   "outputs": [],
   "source": [
    "# extract the indices of voxels in the cortical ribbon\n",
    "\n",
    "lh_cortex_ijk = np.array(np.where(ribbon.get_fdata()==label_id['Left-Cerebral-Cortex'])).T\n",
    "\n",
    "rh_cortex_ijk = np.array(np.where(ribbon.get_fdata()==label_id['Right-Cerebral-Cortex'])).T\n"
   ]
  },
  {
   "cell_type": "code",
   "execution_count": 12,
   "id": "democratic-comment",
   "metadata": {},
   "outputs": [],
   "source": [
    "# use the affine transformation to get to xyz coordinates of the voxels\n",
    "\n",
    "# lh_cortex_xyz = nib.affines.apply_affine(ribbon.affine, lh_cortex_ijk)\n",
    "lh_cortex_xyz = nib.affines.apply_affine(ribbon.header.get_vox2ras_tkr(), lh_cortex_ijk)\n",
    "# lh_cortex_xyz = nib.affines.apply_affine(ribbon.header.get_ras2vox(), lh_cortex_ijk)\n",
    "\n",
    "# rh_cortex_xyz = nib.affines.apply_affine(ribbon.affine, rh_cortex_ijk)\n",
    "rh_cortex_xyz = nib.affines.apply_affine(ribbon.header.get_vox2ras_tkr(), rh_cortex_ijk)\n",
    "# rh_cortex_xyz = nib.affines.apply_affine(ribbon.header.get_ras2vox(), rh_cortex_ijk)\n"
   ]
  },
  {
   "cell_type": "code",
   "execution_count": 13,
   "id": "competent-playlist",
   "metadata": {},
   "outputs": [],
   "source": [
    "# querry each voxel's coordinates to find the nearest neighbor on the surfaces (takes a few seconds)\n",
    "\n",
    "# lh_distance, lh_index = lh_white_kdtree.query(lh_cortex_xyz)\n",
    "# lh_distance, lh_index = lh_pial_kdtree.query(lh_cortex_xyz)\n",
    "lh_distance, lh_index = lh_kdtree.query(lh_cortex_xyz)\n",
    "\n",
    "# rh_distance, rh_index = rh_white_kdtree.query(rh_cortex_xyz)\n",
    "# rh_distance, rh_index = rh_pial_kdtree.query(rh_cortex_xyz)\n",
    "rh_distance, rh_index = rh_kdtree.query(rh_cortex_xyz)\n"
   ]
  },
  {
   "cell_type": "code",
   "execution_count": 14,
   "id": "angry-soviet",
   "metadata": {},
   "outputs": [],
   "source": [
    "# convert the indices to a surface index (reduce the white matter and pial indices to one)\n",
    "\n",
    "lh_index_surf = lh_index%(lh_glasser_annot[0].shape[0])\n",
    "\n",
    "rh_index_surf = rh_index%(rh_glasser_annot[0].shape[0])\n"
   ]
  },
  {
   "cell_type": "code",
   "execution_count": 15,
   "id": "terminal-buffer",
   "metadata": {},
   "outputs": [],
   "source": [
    "# write appropriate labels from glasser atlas to volume\n",
    "\n",
    "glasser_labels[ribbon.get_fdata()==label_id['Left-Cerebral-Cortex']] = lh_glasser_annot[0][lh_index_surf]\n",
    "# glasser_labels[ribbon.get_fdata()==label_id['Left-Cerebral-Cortex']] = 181\n",
    "\n",
    "glasser_labels[ribbon.get_fdata()==label_id['Right-Cerebral-Cortex']] = rh_glasser_annot[0][rh_index_surf]\n",
    "# glasser_labels[ribbon.get_fdata()==label_id['Right-Cerebral-Cortex']] = 10\n"
   ]
  },
  {
   "cell_type": "code",
   "execution_count": 18,
   "id": "dense-union",
   "metadata": {},
   "outputs": [
    {
     "data": {
      "text/plain": [
       "array([  0.,   1.,   2.,   3.,   4.,   5.,   6.,   7.,   8.,   9.,  10.,\n",
       "        11.,  12.,  13.,  14.,  15.,  16.,  17.,  18.,  19.,  20.,  21.,\n",
       "        22.,  23.,  24.,  25.,  26.,  27.,  28.,  29.,  30.,  31.,  32.,\n",
       "        33.,  34.,  35.,  36.,  37.,  38.,  39.,  40.,  41.,  42.,  43.,\n",
       "        44.,  45.,  46.,  47.,  48.,  49.,  50.,  51.,  52.,  53.,  54.,\n",
       "        55.,  56.,  57.,  58.,  59.,  60.,  61.,  62.,  63.,  64.,  65.,\n",
       "        66.,  67.,  68.,  69.,  70.,  71.,  72.,  73.,  74.,  75.,  76.,\n",
       "        77.,  78.,  79.,  80.,  81.,  82.,  83.,  84.,  85.,  86.,  87.,\n",
       "        88.,  89.,  90.,  91.,  92.,  93.,  94.,  95.,  96.,  97.,  98.,\n",
       "        99., 100., 101., 102., 103., 104., 105., 106., 107., 108., 109.,\n",
       "       110., 111., 112., 113., 114., 115., 116., 117., 118., 119., 120.,\n",
       "       121., 122., 123., 124., 125., 126., 127., 128., 129., 130., 131.,\n",
       "       132., 133., 134., 135., 136., 137., 138., 139., 140., 141., 142.,\n",
       "       143., 144., 145., 146., 147., 148., 149., 150., 151., 152., 153.,\n",
       "       154., 155., 156., 157., 158., 159., 160., 161., 162., 163., 164.,\n",
       "       165., 166., 167., 168., 169., 170., 171., 172., 173., 174., 175.,\n",
       "       176., 177., 178., 179., 180., 181., 182., 183., 184., 185., 186.,\n",
       "       187., 188., 189., 190., 191., 192., 193., 194., 195., 196., 197.,\n",
       "       198., 199., 200., 201., 202., 203., 204., 205., 206., 207., 208.,\n",
       "       209., 210., 211., 212., 213., 214., 215., 216., 217., 218., 219.,\n",
       "       220., 221., 222., 223., 224., 225., 226., 227., 228., 229., 230.,\n",
       "       231., 232., 233., 234., 235., 236., 237., 238., 239., 240., 241.,\n",
       "       242., 243., 244., 245., 246., 247., 248., 249., 250., 251., 252.,\n",
       "       253., 254., 255., 256., 257., 258., 259., 260., 261., 262., 263.,\n",
       "       264., 265., 266., 267., 268., 269., 270., 271., 272., 273., 274.,\n",
       "       275., 276., 277., 278., 279., 280., 281., 282., 283., 284., 285.,\n",
       "       286., 287., 288., 289., 290., 291., 292., 293., 294., 295., 296.,\n",
       "       297., 298., 299., 300., 301., 302., 303., 304., 305., 306., 307.,\n",
       "       308., 309., 310., 311., 312., 313., 314., 315., 316., 317., 318.,\n",
       "       319., 320., 321., 322., 323., 324., 325., 326., 327., 328., 329.,\n",
       "       330., 331., 332., 333., 334., 335., 336., 337., 338., 339., 340.,\n",
       "       341., 342., 343., 345., 346., 347., 348., 349., 350., 351., 352.,\n",
       "       353., 354., 355., 356., 357., 358., 359.])"
      ]
     },
     "execution_count": 18,
     "metadata": {},
     "output_type": "execute_result"
    }
   ],
   "source": [
    "(np.unique(glasser_labels))"
   ]
  },
  {
   "cell_type": "code",
   "execution_count": 17,
   "id": "283ffcf6-170c-4976-8359-73c129ad857a",
   "metadata": {},
   "outputs": [
    {
     "data": {
      "text/plain": [
       "359"
      ]
     },
     "execution_count": 17,
     "metadata": {},
     "output_type": "execute_result"
    }
   ],
   "source": [
    "len(np.unique(glasser_labels))"
   ]
  },
  {
   "cell_type": "code",
   "execution_count": 29,
   "id": "statutory-confirmation",
   "metadata": {},
   "outputs": [
    {
     "data": {
      "text/plain": [
       "dtype('uint8')"
      ]
     },
     "execution_count": 29,
     "metadata": {},
     "output_type": "execute_result"
    }
   ],
   "source": [
    "ribbonnii.header.get_data_dtype()"
   ]
  },
  {
   "cell_type": "code",
   "execution_count": 30,
   "id": "potential-conservation",
   "metadata": {},
   "outputs": [],
   "source": [
    "# now write the label into an mgh freesurfer volumetric format\n",
    "\n",
    "# \n",
    "# writing mgz files didn't work due to uint8 overflow\n",
    "# \n",
    "# freesurfer.mghformat.MGHImage(\n",
    "#     glasser_labels.astype(np.uint), # dataobj\n",
    "#     ribbon.affine, # affine\n",
    "# ).to_file_map({\n",
    "#     'image': nib.fileholders.FileHolder('/home/sina/Documents/Research/Datasets/UK biobank/sample/1000094/FreeSurfer/mri/glasserwtt.mgz')\n",
    "# })\n",
    "# \n",
    "\n",
    "img = nib.nifti1.Nifti1Image(\n",
    "    glasser_labels,\n",
    "#     ribbonnii.affine,\n",
    "    ribbon.header.get_vox2ras(),\n",
    "#     header=ribbonnii.header,\n",
    ")\n",
    "\n",
    "nib.save(\n",
    "    img,\n",
    "    '/home/sina/Documents/Research/Datasets/UK biobank/sample/1000094/FreeSurfer/mri/glasser.nii.gz'\n",
    ")\n"
   ]
  },
  {
   "cell_type": "markdown",
   "id": "exact-valuable",
   "metadata": {},
   "source": [
    "---\n",
    "\n",
    "Let's also create a color lookup table in freesurfer format:"
   ]
  },
  {
   "cell_type": "code",
   "execution_count": 302,
   "id": "coral-defensive",
   "metadata": {},
   "outputs": [
    {
     "data": {
      "text/plain": [
       "361"
      ]
     },
     "execution_count": 302,
     "metadata": {},
     "output_type": "execute_result"
    }
   ],
   "source": [
    "len(np.arange(len(lh_glasser_annot[2])))"
   ]
  },
  {
   "cell_type": "code",
   "execution_count": 299,
   "id": "polyphonic-occurrence",
   "metadata": {},
   "outputs": [],
   "source": [
    "np.savetxt(\n",
    "    '/home/sina/Documents/Research/Datasets/UK biobank/sample/1000094/FreeSurfer/mri/glasserColorLUT.txt',\n",
    "    np.array(\n",
    "        pd.DataFrame({\n",
    "            '#No.': np.arange(len(lh_glasser_annot[2])),\n",
    "            'Label Name': [x.decode('utf8') for x in lh_glasser_annot[2]],\n",
    "            'R': lh_glasser_annot[1][:, 0],\n",
    "            'G': lh_glasser_annot[1][:, 1],\n",
    "            'B': lh_glasser_annot[1][:, 2],\n",
    "            'A': lh_glasser_annot[1][:, 3],\n",
    "        })\n",
    "    ),\n",
    "    fmt=['%d','%s','%d','%d','%d','%d',]\n",
    ")"
   ]
  },
  {
   "cell_type": "markdown",
   "id": "specified-girlfriend",
   "metadata": {},
   "source": [
    "---\n",
    "\n",
    "Let's also create a color lookup table to be used with the connectome workbench viewer:\n",
    "\n",
    "**Note**: The mgz files are converted to nifti using the following command:\n",
    "\n",
    "`mri_convert --in_type mgz --out_type nii --out_orientation RAS FreeSurfer/mri/brain.mgz FreeSurfer/mri/brain.nii.gz`\n",
    "\n",
    "Then, the [volume-label-import](https://www.humanconnectome.org/software/workbench-command/-volume-label-import) is used to convert the glasser.nii.gz into a dlabel file which can be openned in workbench viewer:\n",
    "\n",
    "`wb_command -volume-label-import '/home/sina/Documents/Research/Datasets/UK biobank/sample/1000094/FreeSurfer/mri/glasser.nii.gz' '/home/sina/Documents/Research/Datasets/UK biobank/sample/1000094/FreeSurfer/mri/glasser_label_list.txt' '/home/sina/Documents/Research/Datasets/UK biobank/sample/1000094/FreeSurfer/mri/glasser_wb_label.nii.gz'`\n",
    "\n",
    "The label list file is created bellow:"
   ]
  },
  {
   "cell_type": "code",
   "execution_count": 307,
   "id": "descending-retail",
   "metadata": {},
   "outputs": [],
   "source": [
    "atlas_labels = [x.decode('utf8') for x in lh_glasser_annot[2]]\n",
    "\n",
    "with open('/home/sina/Documents/Research/Datasets/UK biobank/sample/1000094/FreeSurfer/mri/glasser_label_list.txt', 'w') as label_list_file:\n",
    "    for i in range(1,len(lh_glasser_annot[2])):\n",
    "        label_list_file.write(f'{atlas_labels[i]}\\n{i} {lh_glasser_annot[1][i, 0]} {lh_glasser_annot[1][i, 1]} {lh_glasser_annot[1][i, 2]} {255-lh_glasser_annot[1][i, 3]}\\n')\n",
    "        "
   ]
  },
  {
   "cell_type": "markdown",
   "id": "indirect-plant",
   "metadata": {},
   "source": [
    "---\n",
    "\n",
    "Resample the volumetric label to fMRI space:\n",
    "\n",
    "Freesurfer's mri_vol2vol seems to work fine:\n",
    "\n",
    "`mri_vol2vol --mov '/home/sina/Documents/Research/Datasets/UK biobank/sample/1000094/FreeSurfer/mri/glasser.nii.gz' --targ '/home/sina/Documents/Research/Datasets/UK biobank/sample/1000094/fMRI/rfMRI.ica/mean_func.nii.gz' --interp nearest --regheader --o '/home/sina/Documents/Research/Datasets/UK biobank/sample/1000094/FreeSurfer/mri/glasser_resampled_to_fMRI.nii.gz'`\n",
    "\n",
    "Followed by the following to create workbench labels:\n",
    "\n",
    "`wb_command -volume-label-import '/home/sina/Documents/Research/Datasets/UK biobank/sample/1000094/FreeSurfer/mri/glasser_resampled_to_fMRI.nii.gz' '/home/sina/Documents/Research/Datasets/UK biobank/sample/1000094/FreeSurfer/mri/glasser_label_list.txt' '/home/sina/Documents/Research/Datasets/UK biobank/sample/1000094/FreeSurfer/mri/glasser_resampled_to_fMRI_wb_label.nii.gz'`\n"
   ]
  },
  {
   "cell_type": "code",
   "execution_count": 321,
   "id": "concrete-economy",
   "metadata": {},
   "outputs": [],
   "source": [
    "# not helpful as generates interpolations\n",
    "\n",
    "# from nibabel.processing import resample_from_to\n",
    "\n",
    "# fMRI_mean = nib.load('/home/sina/Documents/Research/Datasets/UK biobank/sample/1000094/fMRI/rfMRI.ica/mean_func.nii.gz')\n",
    "\n",
    "# resampled_img = resample_from_to(img, to_vox_map=fMRI_mean, mode='nearest')\n",
    "\n",
    "# nib.save(resampled_img, '/home/sina/Documents/Research/Datasets/UK biobank/sample/1000094/FreeSurfer/mri/glasser_resampled_nib.nii.gz')\n"
   ]
  },
  {
   "cell_type": "markdown",
   "id": "altered-acceptance",
   "metadata": {},
   "source": [
    "---\n",
    "\n",
    "Let's try some visualization:"
   ]
  },
  {
   "cell_type": "code",
   "execution_count": null,
   "id": "included-family",
   "metadata": {},
   "outputs": [],
   "source": []
  }
 ],
 "metadata": {
  "kernelspec": {
   "display_name": "Python 3 (ipykernel)",
   "language": "python",
   "name": "python3"
  },
  "language_info": {
   "codemirror_mode": {
    "name": "ipython",
    "version": 3
   },
   "file_extension": ".py",
   "mimetype": "text/x-python",
   "name": "python",
   "nbconvert_exporter": "python",
   "pygments_lexer": "ipython3",
   "version": "3.8.10"
  }
 },
 "nbformat": 4,
 "nbformat_minor": 5
}
